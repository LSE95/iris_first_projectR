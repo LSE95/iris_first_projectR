{
 "cells": [
  {
   "cell_type": "markdown",
   "metadata": {},
   "source": [
    "# Preparation\n",
    "What we need to do now is split our data into train and test datasets. The train data consists of the rows on which we want to train our machine learning algorithm and the test data consists of the rows which we want to predict the Species for. Therefore we have to install the package caTools with install.packages(\"caTools\"). I have it already installed, so I only have to load it with library(caTools). With the function sample.split() we label every element of the Species column with TRUE or FALSE, where TRUE indicates training data and FALSE indicates test data. The SplitRatio can be variied but 0.7 is common. The function set.seed() is used so that the results can be reproduced. We produce two different datasets for the test and train data, data_test, data_test_labeled, data_train and data_train_labeled to compare our prediction later on with the true labels."
   ]
  },
  {
   "cell_type": "code",
   "execution_count": 66,
   "metadata": {
    "collapsed": false
   },
   "outputs": [
    {
     "data": {
      "text/html": [
       "<table>\n",
       "<thead><tr><th></th><th scope=col>Sepal.Length</th><th scope=col>Sepal.Width</th><th scope=col>Petal.Length</th><th scope=col>Petal.Width</th><th scope=col>Species</th></tr></thead>\n",
       "<tbody>\n",
       "\t<tr><th scope=row>1</th><td>5.1   </td><td>3.5   </td><td>1.4   </td><td>0.2   </td><td>setosa</td></tr>\n",
       "\t<tr><th scope=row>2</th><td>4.9   </td><td>3.0   </td><td>1.4   </td><td>0.2   </td><td>setosa</td></tr>\n",
       "\t<tr><th scope=row>4</th><td>4.6   </td><td>3.1   </td><td>1.5   </td><td>0.2   </td><td>setosa</td></tr>\n",
       "\t<tr><th scope=row>5</th><td>5.0   </td><td>3.6   </td><td>1.4   </td><td>0.2   </td><td>setosa</td></tr>\n",
       "\t<tr><th scope=row>8</th><td>5.0   </td><td>3.4   </td><td>1.5   </td><td>0.2   </td><td>setosa</td></tr>\n",
       "\t<tr><th scope=row>9</th><td>4.4   </td><td>2.9   </td><td>1.4   </td><td>0.2   </td><td>setosa</td></tr>\n",
       "</tbody>\n",
       "</table>\n"
      ],
      "text/latex": [
       "\\begin{tabular}{r|lllll}\n",
       "  & Sepal.Length & Sepal.Width & Petal.Length & Petal.Width & Species\\\\\n",
       "\\hline\n",
       "\t1 & 5.1    & 3.5    & 1.4    & 0.2    & setosa\\\\\n",
       "\t2 & 4.9    & 3.0    & 1.4    & 0.2    & setosa\\\\\n",
       "\t4 & 4.6    & 3.1    & 1.5    & 0.2    & setosa\\\\\n",
       "\t5 & 5.0    & 3.6    & 1.4    & 0.2    & setosa\\\\\n",
       "\t8 & 5.0    & 3.4    & 1.5    & 0.2    & setosa\\\\\n",
       "\t9 & 4.4    & 2.9    & 1.4    & 0.2    & setosa\\\\\n",
       "\\end{tabular}\n"
      ],
      "text/markdown": [
       "\n",
       "| <!--/--> | Sepal.Length | Sepal.Width | Petal.Length | Petal.Width | Species | \n",
       "|---|---|---|---|---|---|\n",
       "| 1 | 5.1    | 3.5    | 1.4    | 0.2    | setosa | \n",
       "| 2 | 4.9    | 3.0    | 1.4    | 0.2    | setosa | \n",
       "| 4 | 4.6    | 3.1    | 1.5    | 0.2    | setosa | \n",
       "| 5 | 5.0    | 3.6    | 1.4    | 0.2    | setosa | \n",
       "| 8 | 5.0    | 3.4    | 1.5    | 0.2    | setosa | \n",
       "| 9 | 4.4    | 2.9    | 1.4    | 0.2    | setosa | \n",
       "\n",
       "\n"
      ],
      "text/plain": [
       "  Sepal.Length Sepal.Width Petal.Length Petal.Width Species\n",
       "1 5.1          3.5         1.4          0.2         setosa \n",
       "2 4.9          3.0         1.4          0.2         setosa \n",
       "4 4.6          3.1         1.5          0.2         setosa \n",
       "5 5.0          3.6         1.4          0.2         setosa \n",
       "8 5.0          3.4         1.5          0.2         setosa \n",
       "9 4.4          2.9         1.4          0.2         setosa "
      ]
     },
     "metadata": {},
     "output_type": "display_data"
    },
    {
     "data": {
      "text/html": [
       "<table>\n",
       "<thead><tr><th></th><th scope=col>Sepal.Length</th><th scope=col>Sepal.Width</th><th scope=col>Petal.Length</th><th scope=col>Petal.Width</th></tr></thead>\n",
       "<tbody>\n",
       "\t<tr><th scope=row>1</th><td>5.1</td><td>3.5</td><td>1.4</td><td>0.2</td></tr>\n",
       "\t<tr><th scope=row>2</th><td>4.9</td><td>3.0</td><td>1.4</td><td>0.2</td></tr>\n",
       "\t<tr><th scope=row>4</th><td>4.6</td><td>3.1</td><td>1.5</td><td>0.2</td></tr>\n",
       "\t<tr><th scope=row>5</th><td>5.0</td><td>3.6</td><td>1.4</td><td>0.2</td></tr>\n",
       "\t<tr><th scope=row>8</th><td>5.0</td><td>3.4</td><td>1.5</td><td>0.2</td></tr>\n",
       "\t<tr><th scope=row>9</th><td>4.4</td><td>2.9</td><td>1.4</td><td>0.2</td></tr>\n",
       "</tbody>\n",
       "</table>\n"
      ],
      "text/latex": [
       "\\begin{tabular}{r|llll}\n",
       "  & Sepal.Length & Sepal.Width & Petal.Length & Petal.Width\\\\\n",
       "\\hline\n",
       "\t1 & 5.1 & 3.5 & 1.4 & 0.2\\\\\n",
       "\t2 & 4.9 & 3.0 & 1.4 & 0.2\\\\\n",
       "\t4 & 4.6 & 3.1 & 1.5 & 0.2\\\\\n",
       "\t5 & 5.0 & 3.6 & 1.4 & 0.2\\\\\n",
       "\t8 & 5.0 & 3.4 & 1.5 & 0.2\\\\\n",
       "\t9 & 4.4 & 2.9 & 1.4 & 0.2\\\\\n",
       "\\end{tabular}\n"
      ],
      "text/markdown": [
       "\n",
       "| <!--/--> | Sepal.Length | Sepal.Width | Petal.Length | Petal.Width | \n",
       "|---|---|---|---|---|---|\n",
       "| 1 | 5.1 | 3.5 | 1.4 | 0.2 | \n",
       "| 2 | 4.9 | 3.0 | 1.4 | 0.2 | \n",
       "| 4 | 4.6 | 3.1 | 1.5 | 0.2 | \n",
       "| 5 | 5.0 | 3.6 | 1.4 | 0.2 | \n",
       "| 8 | 5.0 | 3.4 | 1.5 | 0.2 | \n",
       "| 9 | 4.4 | 2.9 | 1.4 | 0.2 | \n",
       "\n",
       "\n"
      ],
      "text/plain": [
       "  Sepal.Length Sepal.Width Petal.Length Petal.Width\n",
       "1 5.1          3.5         1.4          0.2        \n",
       "2 4.9          3.0         1.4          0.2        \n",
       "4 4.6          3.1         1.5          0.2        \n",
       "5 5.0          3.6         1.4          0.2        \n",
       "8 5.0          3.4         1.5          0.2        \n",
       "9 4.4          2.9         1.4          0.2        "
      ]
     },
     "metadata": {},
     "output_type": "display_data"
    }
   ],
   "source": [
    "data = iris\n",
    "library(caTools)\n",
    "set.seed(15)\n",
    "\n",
    "s = sample.split(data[,5],SplitRatio = 0.7)\n",
    "data_train_labeled = data[s,]\n",
    "data_train = data_train_labeled[,-5]\n",
    "data_test_labeled = data[!s,]\n",
    "data_test = data_test[,-5]\n",
    "\n",
    "head(data_train_labeled)\n",
    "head(data_train)\n",
    "#head(data_test_labeled)\n",
    "#head(data_test)"
   ]
  },
  {
   "cell_type": "markdown",
   "metadata": {},
   "source": [
    "Now we have the desired form of our data to use the KNN algorithm. The KNN algorithm is a ML algorithm for supervised learning. Basically if you wish to predict a data point x, you compute the distance between x and the k nearest neighbours. Then you label x with the most common label in the k neighbours (it can also be used for regression). More informations can be found here https://www.analyticsvidhya.com/blog/2014/10/introduction-k-neighbours-algorithm-clustering/."
   ]
  },
  {
   "cell_type": "markdown",
   "metadata": {},
   "source": [
    "# Prediction (KNN)\n",
    "First of all we have to install and load the package \"class\" in R."
   ]
  },
  {
   "cell_type": "code",
   "execution_count": 68,
   "metadata": {
    "collapsed": false
   },
   "outputs": [
    {
     "name": "stdout",
     "output_type": "stream",
     "text": [
      "[1] 0.9555556\n"
     ]
    }
   ],
   "source": [
    "library(class)\n",
    "\n",
    "knn_one = knn(data_train,data_test,data_train_labeled[,5],k=1)\n",
    "\n",
    "accuracy = sum(data_test_labeled[,5] == knn_one)/length(data_test_labeled[,5])\n",
    "print(accuracy)"
   ]
  },
  {
   "cell_type": "markdown",
   "metadata": {},
   "source": [
    "It can be seen that if we choose k=1 then we get a prediction accuracy of 0.9555556. That's pretty good for such an easy algorithm but on this dataset a better accuracy should be possible. Therefore we vary k and plot different k's  against their accuracy!"
   ]
  },
  {
   "cell_type": "code",
   "execution_count": 70,
   "metadata": {
    "collapsed": false
   },
   "outputs": [
    {
     "data": {
      "text/html": [
       "<ol class=list-inline>\n",
       "\t<li>0.955555555555556</li>\n",
       "\t<li>0.955555555555556</li>\n",
       "\t<li>0.977777777777778</li>\n",
       "\t<li>0.977777777777778</li>\n",
       "\t<li>0.977777777777778</li>\n",
       "\t<li>0.977777777777778</li>\n",
       "\t<li>0.977777777777778</li>\n",
       "\t<li>0.933333333333333</li>\n",
       "\t<li>0.955555555555556</li>\n",
       "\t<li>0.955555555555556</li>\n",
       "\t<li>0.955555555555556</li>\n",
       "\t<li>0.955555555555556</li>\n",
       "\t<li>0.933333333333333</li>\n",
       "\t<li>0.933333333333333</li>\n",
       "\t<li>0.933333333333333</li>\n",
       "\t<li>0.911111111111111</li>\n",
       "\t<li>0.911111111111111</li>\n",
       "\t<li>0.911111111111111</li>\n",
       "\t<li>0.911111111111111</li>\n",
       "\t<li>0.933333333333333</li>\n",
       "</ol>\n"
      ],
      "text/latex": [
       "\\begin{enumerate*}\n",
       "\\item 0.955555555555556\n",
       "\\item 0.955555555555556\n",
       "\\item 0.977777777777778\n",
       "\\item 0.977777777777778\n",
       "\\item 0.977777777777778\n",
       "\\item 0.977777777777778\n",
       "\\item 0.977777777777778\n",
       "\\item 0.933333333333333\n",
       "\\item 0.955555555555556\n",
       "\\item 0.955555555555556\n",
       "\\item 0.955555555555556\n",
       "\\item 0.955555555555556\n",
       "\\item 0.933333333333333\n",
       "\\item 0.933333333333333\n",
       "\\item 0.933333333333333\n",
       "\\item 0.911111111111111\n",
       "\\item 0.911111111111111\n",
       "\\item 0.911111111111111\n",
       "\\item 0.911111111111111\n",
       "\\item 0.933333333333333\n",
       "\\end{enumerate*}\n"
      ],
      "text/markdown": [
       "1. 0.955555555555556\n",
       "2. 0.955555555555556\n",
       "3. 0.977777777777778\n",
       "4. 0.977777777777778\n",
       "5. 0.977777777777778\n",
       "6. 0.977777777777778\n",
       "7. 0.977777777777778\n",
       "8. 0.933333333333333\n",
       "9. 0.955555555555556\n",
       "10. 0.955555555555556\n",
       "11. 0.955555555555556\n",
       "12. 0.955555555555556\n",
       "13. 0.933333333333333\n",
       "14. 0.933333333333333\n",
       "15. 0.933333333333333\n",
       "16. 0.911111111111111\n",
       "17. 0.911111111111111\n",
       "18. 0.911111111111111\n",
       "19. 0.911111111111111\n",
       "20. 0.933333333333333\n",
       "\n",
       "\n"
      ],
      "text/plain": [
       " [1] 0.9555556 0.9555556 0.9777778 0.9777778 0.9777778 0.9777778 0.9777778\n",
       " [8] 0.9333333 0.9555556 0.9555556 0.9555556 0.9555556 0.9333333 0.9333333\n",
       "[15] 0.9333333 0.9111111 0.9111111 0.9111111 0.9111111 0.9333333"
      ]
     },
     "metadata": {},
     "output_type": "display_data"
    },
    {
     "data": {
      "image/png": "[encoded data removed]",
      "text/plain": [
       "plot without title"
      ]
     },
     "metadata": {},
     "output_type": "display_data"
    }
   ],
   "source": [
    "accuracy = NULL\n",
    "for (i in c(1:20)){\n",
    "    accuracy.i = knn(data_train,data_test,data_train_labeled[,5],k=i)\n",
    "    accuracy = c(accuracy,sum(data_test_labeled[,5] == accuracy.i)/length(data_test_labeled[,5]))\n",
    "}\n",
    "plot(c(1:20),accuracy,type='l',xlab='k',ylab='accuracy')\n",
    "accuracy"
   ]
  },
  {
   "cell_type": "markdown",
   "metadata": {},
   "source": [
    "We achieve the best accuracy for k=3,4,5,6,7. k=3 would be an appropriate choice. It has to be mentioned that in reality the test data has no labels. Therefore another approach like Cross Validation has to be used. We will get there in the next projects!"
   ]
  }
 ],
 "metadata": {
  "kernelspec": {
   "display_name": "R",
   "language": "R",
   "name": "ir"
  },
  "language_info": {
   "codemirror_mode": "r",
   "file_extension": ".r",
   "mimetype": "text/x-r-source",
   "name": "R",
   "pygments_lexer": "r",
   "version": "3.3.1"
  }
 },
 "nbformat": 4,
 "nbformat_minor": 2
}
